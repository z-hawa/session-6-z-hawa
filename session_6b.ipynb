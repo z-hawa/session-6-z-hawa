{
  "nbformat": 4,
  "nbformat_minor": 0,
  "metadata": {
    "colab": {
      "name": "Untitled0.ipynb",
      "provenance": [],
      "collapsed_sections": []
    },
    "kernelspec": {
      "name": "python3",
      "display_name": "Python 3"
    },
    "language_info": {
      "name": "python"
    }
  },
  "cells": [
    {
      "cell_type": "code",
      "metadata": {
        "colab": {
          "base_uri": "https://localhost:8080/"
        },
        "id": "6SCDedl1Pb8L",
        "outputId": "10bc1623-45ba-42bd-a2cc-785c4a052ad6"
      },
      "source": [
        "# Fibonacci sequence part\n",
        "from os import spawnl\n",
        "import math\n",
        "\n",
        "fibolist = [0, 1, 1]\n",
        "while fibolist[-1] <= 10000:\n",
        "    fibolist.append(fibolist[-1] + fibolist[-2])\n",
        "\n",
        "checkfibonumber = lambda checklist: list(filter(lambda x: x in fibolist, checklist))\n",
        "print(\"fibo number checker - \",checkfibonumber(\n",
        "    [1, 2, 3, 4, 5, 6, 7, 8, 9]))  # Prints all the numbers which are a fibonacci number , should be 1,2,3,5,8\n",
        "\n",
        "# Second part , odd even number addition, strip vowel from word , sigmoid function , encryption algorithm\n",
        "\n",
        "# odd even number addition\n",
        "final_result = lambda mylist1, mylist2: sum(list(filter((lambda x: x % 2 == 0), mylist1))) + sum(\n",
        "    list(filter((lambda y: y % 2 == 1), mylist2)))\n",
        "print(\"add even and odd numbers filtered - \",final_result([1, 2, 3, 4, 5, 6, 7, 8, 9], [1, 2, 3, 4, 5, 6, 7, 8]))  # Should be 36 since 9 shouldn't be counted\n",
        "\n",
        "# strip vowel from word\n",
        "vowel_list = ['a', 'e', 'i', 'o', 'u', 'A', 'E', 'I', 'O', 'U']\n",
        "vowel_conversion_function = lambda mystring: \"\".join(filter(lambda x: x not in vowel_list, list(mystring)))\n",
        "print(\"Vowel removal - \",vowel_conversion_function(\"tsaiTSAI\"))\n",
        "\n",
        "# sigmoid function (I haven't learnt this in school so I'll just try to do what I can)\n",
        "sigmoid_apply_to_list = lambda myintegerlist: list(map(lambda x: 1 / (1 + math.exp(-x)), myintegerlist))\n",
        "print(\"sigmoid apply to list - \",sigmoid_apply_to_list([1, 2, 3, 4, 5]))\n",
        "\n",
        "# Encryption algorithm\n",
        "\n",
        "shifted_text_function = lambda mystring: \"\".join(\n",
        "    map(lambda x: chr(ord(x) + 5) if ord(x) + 5 <= ord('z') else chr(ord('a') + 4 - (ord('z') - ord(x))),\n",
        "        list(mystring)))\n",
        "print(\"beta encryption - \",shifted_text_function(\n",
        "    \"abcdefghjiklmnopqrstuvwxyz\"))  # Should return a nice string starting from f and ending with e\n",
        "\n",
        "# Third part , profanity checking\n",
        "\n",
        "with open(\"list.txt\", \"r\") as f:  # Opens the list of bad word file\n",
        "    bad_words = f.read().split()  # Stores it as a list for better comparison\n",
        "\n",
        "# Callable which checks if certain banned words are present\n",
        "check_paragraph_for_bad_words = lambda mypara: \"Profanity words present\" if list(\n",
        "    filter((lambda x: x in bad_words), mypara.split())) else \"Not present\"\n",
        "print(\"Bad words filter - \",check_paragraph_for_bad_words(\n",
        "    \"Oh shit this is a phrase\"))  # Should print the True part since there is a word present\n",
        "\n",
        "# Fourth part , reduce functions for adding even numbers,biggest character , adds every 3rd number in a list\n",
        "\n",
        "#Add even numbers from a list\n",
        "from functools import reduce\n",
        "\n",
        "add_even_numbers_only=lambda my_even_number_addition_list: reduce(lambda x,y:x+y,filter(lambda z:z%2==0,my_even_number_addition_list))\n",
        "print(\"add even numbers only - \",add_even_numbers_only([1,2,3,4,5,6])) #Output should be 12\n",
        "\n",
        "#Biggest character\n",
        "\n",
        "biggest_character_from_string=lambda my_character_string:reduce(lambda x,y:x if ord(x)>ord(y) else y,my_character_string)\n",
        "print(\"biggest character from string - \",biggest_character_from_string(\"zabcgheriofjoasdo\"))#Should return z as it is the largest unicode alphabet\n",
        "\n",
        "#3rd number of list\n",
        "\n",
        "third_number_from_list_addition=lambda list_of_numbers:reduce(lambda x,y:x+y,list_of_numbers[2::3])\n",
        "print(\"Third number list addition - \",third_number_from_list_addition([1,2,3,4,5,6]))#Should return 9\n",
        "\n",
        "\n",
        "# Random number plate generator\n",
        "random_number_plates=[]\n",
        "from string import ascii_uppercase\n",
        "from functools import partial\n",
        "import random\n",
        "random_number_plates=[(\"KA\"+(\"0\"+str(random.randint(1,99)))[-2:]+random.choice(ascii_uppercase)+random.choice(ascii_uppercase)+str(random.randint(1000,9999))) for _ in range(15)]\n",
        "#generator(random_number_plates)\n",
        "print(\"Random KA number plates - \",random_number_plates)\n",
        "\n",
        "#second part with partial\n",
        "generator_improved=lambda number_plate_list,state,upper_limit_number:number_plate_list.append((\"DL\" if state==\"DL\" else \"KA\") + (\"0\" + str(random.randint(1, 99)))[-2:] + random.choice(ascii_uppercase) + random.choice(ascii_uppercase) + str(random.randint(1000, upper_limit_number)))\n",
        "random_number_plates_improved=[]\n",
        "generator_improved_partially=partial(generator_improved,random_number_plates_improved,\"DL\",9999)\n",
        "generator_improved_partially()\n",
        "print(\"Partial number plates - \",random_number_plates_improved)\n"
      ],
      "execution_count": 2,
      "outputs": [
        {
          "output_type": "stream",
          "text": [
            "fibo number checker -  [1, 2, 3, 5, 8]\n",
            "add even and odd numbers filtered -  36\n",
            "Vowel removal -  tsTS\n",
            "sigmoid apply to list -  [0.7310585786300049, 0.8807970779778823, 0.9525741268224334, 0.9820137900379085, 0.9933071490757153]\n",
            "beta encryption -  fghijklmonpqrstuvwxyzabcde\n",
            "Bad words filter -  Profanity words present\n",
            "add even numbers only -  12\n",
            "biggest character from string -  z\n",
            "Third number list addition -  9\n",
            "Random KA number plates -  ['KA97BO9325', 'KA19SE2791', 'KA86ZY7361', 'KA58VO5287', 'KA59XR8713', 'KA59DK2868', 'KA50VN3272', 'KA76NB1815', 'KA50DO9477', 'KA14CF4413', 'KA85XV5298', 'KA11NX6189', 'KA19WK6490', 'KA73CW2215', 'KA70CM7269']\n",
            "Partial number plates -  ['DL36ZL6812']\n"
          ],
          "name": "stdout"
        }
      ]
    }
  ]
}